{
  "cells": [
    {
      "cell_type": "markdown",
      "metadata": {
        "id": "view-in-github",
        "colab_type": "text"
      },
      "source": [
        "<a href=\"https://colab.research.google.com/github/pachterlab/seqspec/blob/devel/docs/USING_SEQSPEC.ipynb\" target=\"_parent\"><img src=\"https://colab.research.google.com/assets/colab-badge.svg\" alt=\"Open In Colab\"/></a>"
      ]
    },
    {
      "cell_type": "markdown",
      "source": [
        "---\n",
        "title: Common uses\n",
        "date: 2024-06-25\n",
        "authors:\n",
        "  - name: A. Sina Booeshaghi\n",
        "---"
      ],
      "metadata": {
        "id": "IXeDB4fTf6K-"
      }
    },
    {
      "cell_type": "markdown",
      "source": [
        "A `seqspec` file provides complete information about the structure of a sequencing library and seqeuencing reads generated from it. Herein we document common tasks that users may find useful when working with `seqspec` files. In this document we will work with the `examples/specs/SPLiT-seq/spec.yaml` file. In some cases we will use the command line tool `jq` to extract relevant information from the `seqspec` tool output though this is not required."
      ],
      "metadata": {
        "id": "Q7buEYERfo2n"
      }
    },
    {
      "cell_type": "code",
      "execution_count": 1,
      "metadata": {
        "colab": {
          "base_uri": "https://localhost:8080/"
        },
        "id": "lIYdn1woOS1n",
        "outputId": "21dc4957-b6fd-4a8d-a689-0ded08c119d4"
      },
      "outputs": [
        {
          "output_type": "stream",
          "name": "stdout",
          "text": [
            "Cloning into 'seqspec'...\n",
            "remote: Enumerating objects: 1651, done.\u001b[K\n",
            "remote: Counting objects: 100% (828/828), done.\u001b[K\n",
            "remote: Compressing objects: 100% (416/416), done.\u001b[K\n",
            "remote: Total 1651 (delta 487), reused 676 (delta 404), pack-reused 823\u001b[K\n",
            "Receiving objects: 100% (1651/1651), 6.51 MiB | 9.08 MiB/s, done.\n",
            "Resolving deltas: 100% (1008/1008), done.\n",
            "Branch 'devel' set up to track remote branch 'devel' from 'origin'.\n",
            "Switched to a new branch 'devel'\n",
            "  Preparing metadata (setup.py) ... \u001b[?25l\u001b[?25hdone\n",
            "\u001b[2K     \u001b[90m━━━━━━━━━━━━━━━━━━━━━━━━━━━━━━━━━━━━━━━━\u001b[0m \u001b[32m3.2/3.2 MB\u001b[0m \u001b[31m10.7 MB/s\u001b[0m eta \u001b[36m0:00:00\u001b[0m\n",
            "\u001b[?25h"
          ]
        }
      ],
      "source": [
        "!git clone https://github.com/pachterlab/seqspec/\n",
        "!cd seqspec && git checkout devel && pip install --quiet -e .\n",
        "!ln -s seqspec/examples/specs/SPLiT-seq/spec.yaml ."
      ]
    },
    {
      "cell_type": "markdown",
      "source": [
        "# What modalities are annotated in my spec?"
      ],
      "metadata": {
        "id": "6i3btp4ofrKp"
      }
    },
    {
      "cell_type": "code",
      "source": [
        "%%bash\n",
        "seqspec info -k modalities spec.yaml"
      ],
      "metadata": {
        "id": "A80KkWKVebL2",
        "outputId": "07863c46-3be3-4f2b-ac71-2b72522255f7",
        "colab": {
          "base_uri": "https://localhost:8080/"
        }
      },
      "execution_count": 5,
      "outputs": [
        {
          "output_type": "stream",
          "name": "stdout",
          "text": [
            "rna\n"
          ]
        }
      ]
    },
    {
      "cell_type": "markdown",
      "source": [
        "# What library kits/protocols and sequencing kit/protocols were used to generated the library?"
      ],
      "metadata": {
        "id": "d6VIUBg5fsvG"
      }
    },
    {
      "cell_type": "code",
      "source": [
        "%%bash\n",
        "seqspec info -f json -k meta spec.yaml"
      ],
      "metadata": {
        "id": "AqKGSILoe9p9",
        "outputId": "bea5ecbc-2b21-4695-e74d-ad66ac8e8eb3",
        "colab": {
          "base_uri": "https://localhost:8080/"
        }
      },
      "execution_count": 4,
      "outputs": [
        {
          "output_type": "stream",
          "name": "stdout",
          "text": [
            "{\n",
            "    \"seqspec_version\": \"0.2.0\",\n",
            "    \"assay_id\": \"SPLiTSeq\",\n",
            "    \"name\": \"SPLiTSeq\",\n",
            "    \"doi\": \"https://doi.org/10.1126/science.aam8999\",\n",
            "    \"date\": \"15 March 2018\",\n",
            "    \"description\": \"split-pool ligation-based transcriptome sequencing\",\n",
            "    \"lib_struct\": \"https://teichlab.github.io/scg_lib_structs/methods_html/SPLiT-seq.html\",\n",
            "    \"sequence_protocol\": \"NextSeq 500\",\n",
            "    \"sequence_kit\": \"NextSeq 550 reagents\",\n",
            "    \"library_protocol\": \"SPLiTSeq RNA\",\n",
            "    \"library_kit\": \"Custom/Nextera/Truseq Single Index\"\n",
            "}\n"
          ]
        }
      ]
    },
    {
      "cell_type": "markdown",
      "source": [
        "# What are the sequencing reads annotated in my spec?"
      ],
      "metadata": {
        "id": "goPKb0a1fudC"
      }
    },
    {
      "cell_type": "code",
      "source": [
        "%%bash\n",
        "seqspec info -k sequence_spec spec.yaml"
      ],
      "metadata": {
        "id": "Uo2pfweKfX8K",
        "outputId": "d39de977-0e80-4a70-a4fa-14fabb401a48",
        "colab": {
          "base_uri": "https://localhost:8080/"
        }
      },
      "execution_count": 6,
      "outputs": [
        {
          "output_type": "stream",
          "name": "stdout",
          "text": [
            "rna\tR1.fastq.gz\tpos\t140\t140\tRead_1_primer\tRead 1\n",
            "rna\tI1.fastq.gz\tpos\t6\t6\tRead_2_primer\tIndex 1 (i7 index)\n",
            "rna\tR2.fastq.gz\tneg\t86\t86\tRead_2_primer\tRead 2\n"
          ]
        }
      ]
    },
    {
      "cell_type": "markdown",
      "source": [
        "# What does my sequencing library look like?"
      ],
      "metadata": {
        "id": "aDGC1VW3fwDn"
      }
    },
    {
      "cell_type": "code",
      "source": [
        "%%bash\n",
        "seqspec info -k library_spec spec.yaml"
      ],
      "metadata": {
        "id": "zc7cTP-cfZQc",
        "outputId": "1248c845-71d3-49b9-b935-355d1a61e95c",
        "colab": {
          "base_uri": "https://localhost:8080/"
        }
      },
      "execution_count": 7,
      "outputs": [
        {
          "output_type": "stream",
          "name": "stdout",
          "text": [
            "rna\tP5\tillumina_p5\tP5\tfixed\tAATGATACGGCGACCACCGAGATCTACAC\t29\t29\tNone\n",
            "rna\tSpacer\tlinker\tSpacer\tfixed\tTAGATCGC\t8\t8\tNone\n",
            "rna\tRead_1_primer\tread1_primer\tRead_1_primer\tfixed\tTCGTCGGCAGCGTCAGATGTGTATAAGAGACAG\t33\t33\tNone\n",
            "rna\tcDNA\tcdna\tcDNA\trandom\tXXXXXXXXXXXXXXXXXXXXXXXXXXXXXXXXXXXXXXXXXXXXXXXXXXXXXXXXXXXXXXXXXXXXXXXXXXXXXXXXXXXXXXXXXXXXXXXXXXXX\t1\t100\tNone\n",
            "rna\tRT_primer\tprimer\tRT_primer\tonlist\tNNNNNNNNNNNNNNN\t6\t15\tonlist_rt_primer.txt\n",
            "rna\tRound_1_BC\tbarcode\tRound_1_BC\tonlist\tNNNNNNNN\t8\t8\tonlist_round1.txt\n",
            "rna\tlinker_1\tlinker\tlinker_1\tfixed\tGCTTACGAGACCGGAGAGTTCGTGCACCTA\t30\t30\tNone\n",
            "rna\tRound_2_BC\tbarcode\tRound_2_BC\tonlist\tNNNNNNNN\t8\t8\tonlist_round1.txt\n",
            "rna\tLinker_2\tlinker\tLinker_2\tfixed\tTCAGCATGCGGCTACGCTTTGTAGCCGGTG\t30\t30\tNone\n",
            "rna\tRound_3_BC\tbarcode\tRound_3_BC\tonlist\tNNNNNNNN\t8\t8\tonlist_round1.txt\n",
            "rna\tUMI\tumi\tUMI\trandom\tXXXXXXXXXX\t10\t10\tonlist_round2.txt\n",
            "rna\tRead_2_primer\tprimer\tRead_2_primer\tfixed\tTCTAGCCTTCTCGTGTGCAGAC\t22\t22\tonlist_round3.txt\n",
            "rna\tRound_4_BC\tbarcode\tRound_4_BC\tonlist\tNNNNNN\t6\t6\tonlist_round4.txt\n",
            "rna\tP7\tillumina_p7\tP7\tfixed\tATCTCGTATGCCGTCTTCTGCTTG\t24\t24\tNone\n"
          ]
        }
      ]
    },
    {
      "cell_type": "markdown",
      "source": [
        "# Which library elements are contained in my sequencing reads?"
      ],
      "metadata": {
        "id": "aEpWDWa6fxyY"
      }
    },
    {
      "cell_type": "markdown",
      "source": [
        "Using the tables above we specify the sequencing read and the associated modality.\n",
        "\n",
        "Elements in R1.fastq.gz"
      ],
      "metadata": {
        "id": "-lnppKfcfzZb"
      }
    },
    {
      "cell_type": "code",
      "source": [
        "%%bash\n",
        "seqspec index -m rna -r \"R1.fastq.gz\" spec.yaml"
      ],
      "metadata": {
        "id": "rFlN83BDfcZt",
        "outputId": "d63f92ac-507c-41c2-d20c-a55808ea188c",
        "colab": {
          "base_uri": "https://localhost:8080/"
        }
      },
      "execution_count": 8,
      "outputs": [
        {
          "output_type": "stream",
          "name": "stdout",
          "text": [
            "R1.fastq.gz\tcDNA\tcdna\t0\t100\n",
            "R1.fastq.gz\tRT_primer\tprimer\t100\t115\n",
            "R1.fastq.gz\tRound_1_BC\tbarcode\t115\t123\n",
            "R1.fastq.gz\tlinker_1\tlinker\t123\t140\n"
          ]
        }
      ]
    },
    {
      "cell_type": "markdown",
      "source": [
        "Elements in R2.fastq.gz"
      ],
      "metadata": {
        "id": "z-5MOSH7f0OJ"
      }
    },
    {
      "cell_type": "code",
      "source": [
        "%%bash\n",
        "seqspec index -m rna -r \"R2.fastq.gz\" spec.yaml"
      ],
      "metadata": {
        "id": "tj-mTO8sffpo",
        "outputId": "c440149b-21fa-45e1-9100-833fd299f14a",
        "colab": {
          "base_uri": "https://localhost:8080/"
        }
      },
      "execution_count": 9,
      "outputs": [
        {
          "output_type": "stream",
          "name": "stdout",
          "text": [
            "R2.fastq.gz\tUMI\tumi\t0\t10\n",
            "R2.fastq.gz\tRound_3_BC\tbarcode\t10\t18\n",
            "R2.fastq.gz\tLinker_2\tlinker\t18\t48\n",
            "R2.fastq.gz\tRound_2_BC\tbarcode\t48\t56\n",
            "R2.fastq.gz\tlinker_1\tlinker\t56\t86\n"
          ]
        }
      ]
    },
    {
      "cell_type": "markdown",
      "source": [
        "Elements in I1.fastq.gz"
      ],
      "metadata": {
        "id": "Exf-OvMhf2ym"
      }
    },
    {
      "cell_type": "code",
      "source": [
        "%%bash\n",
        "seqspec index -m rna -r \"I1.fastq.gz\" spec.yaml"
      ],
      "metadata": {
        "id": "zKT5725Mfg9C",
        "outputId": "c23ac44c-d490-478c-943e-f9b89830e282",
        "colab": {
          "base_uri": "https://localhost:8080/"
        }
      },
      "execution_count": 10,
      "outputs": [
        {
          "output_type": "stream",
          "name": "stdout",
          "text": [
            "I1.fastq.gz\tRound_4_BC\tbarcode\t0\t6\n"
          ]
        }
      ]
    },
    {
      "cell_type": "code",
      "source": [],
      "metadata": {
        "id": "qnjxaTlqfh3C"
      },
      "execution_count": null,
      "outputs": []
    }
  ],
  "metadata": {
    "colab": {
      "name": "scratchpad",
      "provenance": [],
      "include_colab_link": true
    },
    "kernelspec": {
      "display_name": "Python 3",
      "name": "python3"
    }
  },
  "nbformat": 4,
  "nbformat_minor": 0
}