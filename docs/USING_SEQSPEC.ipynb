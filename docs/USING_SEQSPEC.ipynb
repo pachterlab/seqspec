{
  "cells": [
    {
      "cell_type": "markdown",
      "source": [
        "---\n",
        "title: Common uses\n",
        "date: 2024-06-25\n",
        "authors:\n",
        "  - name: A. Sina Booeshaghi\n",
        "---"
      ],
      "metadata": {
        "id": "IXeDB4fTf6K-"
      }
    },
    {
      "cell_type": "markdown",
      "metadata": {
        "id": "view-in-github"
      },
      "source": [
        "<a href=\"https://colab.research.google.com/github/pachterlab/seqspec/blob/devel/docs/USING_SEQSPEC.ipynb\" target=\"_parent\"><img src=\"https://colab.research.google.com/assets/colab-badge.svg\" alt=\"Open In Colab\"/></a>"
      ]
    },
    {
      "cell_type": "markdown",
      "source": [
        "A `seqspec` file provides complete information about the structure of a sequencing library and seqeuencing reads generated from it. Herein we document common tasks that users may find useful when working with `seqspec` files. In this document we will work with the `examples/specs/SPLiT-seq/spec.yaml` file."
      ],
      "metadata": {
        "id": "Q7buEYERfo2n"
      }
    },
    {
      "cell_type": "code",
      "execution_count": 1,
      "metadata": {
        "colab": {
          "base_uri": "https://localhost:8080/"
        },
        "id": "lIYdn1woOS1n",
        "outputId": "f873195e-9a73-407a-f5a6-a82e5f819d8a"
      },
      "outputs": [
        {
          "output_type": "stream",
          "name": "stdout",
          "text": [
            "Cloning into 'seqspec'...\n",
            "remote: Enumerating objects: 1670, done.\u001b[K\n",
            "remote: Counting objects: 100% (847/847), done.\u001b[K\n",
            "remote: Compressing objects: 100% (427/427), done.\u001b[K\n",
            "remote: Total 1670 (delta 498), reused 689 (delta 412), pack-reused 823\u001b[K\n",
            "Receiving objects: 100% (1670/1670), 6.52 MiB | 6.10 MiB/s, done.\n",
            "Resolving deltas: 100% (1019/1019), done.\n",
            "Branch 'devel' set up to track remote branch 'devel' from 'origin'.\n",
            "Switched to a new branch 'devel'\n",
            "  Preparing metadata (setup.py) ... \u001b[?25l\u001b[?25hdone\n",
            "\u001b[2K     \u001b[90m━━━━━━━━━━━━━━━━━━━━━━━━━━━━━━━━━━━━━━━━\u001b[0m \u001b[32m3.2/3.2 MB\u001b[0m \u001b[31m12.4 MB/s\u001b[0m eta \u001b[36m0:00:00\u001b[0m\n",
            "\u001b[?25h"
          ]
        }
      ],
      "source": [
        "!git clone https://github.com/pachterlab/seqspec/\n",
        "!cd seqspec && git checkout devel && pip install --quiet -e .\n",
        "!ln -s seqspec/examples/specs/SPLiT-seq/*onlist* .\n",
        "!ln -s seqspec/examples/specs/SPLiT-seq/spec.yaml ."
      ]
    },
    {
      "cell_type": "markdown",
      "source": [
        "# What does a seqspec look look?"
      ],
      "metadata": {
        "id": "-nhqlgEdch-7"
      }
    },
    {
      "cell_type": "code",
      "source": [
        "!head spec.yaml"
      ],
      "metadata": {
        "id": "nu_0k8Zpchm0",
        "outputId": "90b5e9fc-8566-41b6-c493-af46e48683cb",
        "colab": {
          "base_uri": "https://localhost:8080/"
        }
      },
      "execution_count": 2,
      "outputs": [
        {
          "output_type": "stream",
          "name": "stdout",
          "text": [
            "!Assay\n",
            "seqspec_version: 0.2.0\n",
            "assay_id: SPLiTSeq\n",
            "name: SPLiTSeq\n",
            "doi: https://doi.org/10.1126/science.aam8999\n",
            "date: 15 March 2018\n",
            "description: split-pool ligation-based transcriptome sequencing\n",
            "modalities:\n",
            "- rna\n",
            "lib_struct: https://teichlab.github.io/scg_lib_structs/methods_html/SPLiT-seq.html\n"
          ]
        }
      ]
    },
    {
      "cell_type": "markdown",
      "source": [
        "# Is my seqspec formatted correctly?"
      ],
      "metadata": {
        "id": "PRrLtZmicvS4"
      }
    },
    {
      "cell_type": "code",
      "source": [
        "!seqspec check spec.yaml"
      ],
      "metadata": {
        "id": "xtgljVoGcw7k",
        "outputId": "5b083d1d-4012-4d09-defa-e3843dc33c81",
        "colab": {
          "base_uri": "https://localhost:8080/"
        }
      },
      "execution_count": 3,
      "outputs": [
        {
          "output_type": "stream",
          "name": "stdout",
          "text": [
            "[error 1] 'read1_primer' is not one of ['atac', 'barcode', 'cdna', 'crispr', 'custom_primer', 'dna', 'fastq', 'fastq_link', 'gdna', 'hic', 'illumina_p5', 'illumina_p7', 'index5', 'index7', 'linker', 'ME1', 'ME2', 'methyl', 'named', 'nextera_read1', 'nextera_read2', 'poly_A', 'poly_G', 'poly_T', 'poly_C', 'protein', 'rna', 's5', 's7', 'tag', 'truseq_read1', 'truseq_read2', 'umi'] in spec['library_spec'][0]['regions'][2]['region_type']\n",
            "[error 2] 'primer' is not one of ['atac', 'barcode', 'cdna', 'crispr', 'custom_primer', 'dna', 'fastq', 'fastq_link', 'gdna', 'hic', 'illumina_p5', 'illumina_p7', 'index5', 'index7', 'linker', 'ME1', 'ME2', 'methyl', 'named', 'nextera_read1', 'nextera_read2', 'poly_A', 'poly_G', 'poly_T', 'poly_C', 'protein', 'rna', 's5', 's7', 'tag', 'truseq_read1', 'truseq_read2', 'umi'] in spec['library_spec'][0]['regions'][4]['region_type']\n",
            "[error 3] 'primer' is not one of ['atac', 'barcode', 'cdna', 'crispr', 'custom_primer', 'dna', 'fastq', 'fastq_link', 'gdna', 'hic', 'illumina_p5', 'illumina_p7', 'index5', 'index7', 'linker', 'ME1', 'ME2', 'methyl', 'named', 'nextera_read1', 'nextera_read2', 'poly_A', 'poly_G', 'poly_T', 'poly_C', 'protein', 'rna', 's5', 's7', 'tag', 'truseq_read1', 'truseq_read2', 'umi'] in spec['library_spec'][0]['regions'][11]['region_type']\n",
            "[error 3] R1.fastq.gz file does not exist\n",
            "[error 4] I1.fastq.gz file does not exist\n",
            "[error 5] R2.fastq.gz file does not exist\n"
          ]
        }
      ]
    },
    {
      "cell_type": "markdown",
      "source": [
        "# What are the contents of my library?"
      ],
      "metadata": {
        "id": "5Dow8A1jcskx"
      }
    },
    {
      "cell_type": "code",
      "source": [
        "!seqspec print spec.yaml"
      ],
      "metadata": {
        "id": "XdcdwYs7cm0r",
        "outputId": "9d0b23d0-a814-4104-8680-0ad78f789de7",
        "colab": {
          "base_uri": "https://localhost:8080/"
        }
      },
      "execution_count": 4,
      "outputs": [
        {
          "output_type": "stream",
          "name": "stdout",
          "text": [
            "                                          ┌─'P5:29'\n",
            "                                          ├─'Spacer:8'\n",
            "                                          ├─'Read_1_primer:33'\n",
            "                                          ├─'cDNA:100'\n",
            "                                          ├─'RT_primer:15'\n",
            "                                          ├─'Round_1_BC:8'\n",
            "                                          ├─'linker_1:30'\n",
            "──────────────────── ──rna────────────────┤\n",
            "                                          ├─'Round_2_BC:8'\n",
            "                                          ├─'Linker_2:30'\n",
            "                                          ├─'Round_3_BC:8'\n",
            "                                          ├─'UMI:10'\n",
            "                                          ├─'Read_2_primer:22'\n",
            "                                          ├─'Round_4_BC:6'\n",
            "                                          └─'P7:24'\n"
          ]
        }
      ]
    },
    {
      "cell_type": "markdown",
      "source": [
        "# What modalities are annotated in my spec?"
      ],
      "metadata": {
        "id": "6i3btp4ofrKp"
      }
    },
    {
      "cell_type": "code",
      "source": [
        "!seqspec info -k modalities spec.yaml"
      ],
      "metadata": {
        "id": "A80KkWKVebL2",
        "outputId": "08c8dece-714a-4574-dc35-095229297cc4",
        "colab": {
          "base_uri": "https://localhost:8080/"
        }
      },
      "execution_count": 5,
      "outputs": [
        {
          "output_type": "stream",
          "name": "stdout",
          "text": [
            "rna\n"
          ]
        }
      ]
    },
    {
      "cell_type": "markdown",
      "source": [
        "# What library kits/protocols and sequencing kit/protocols were used to generated the library?"
      ],
      "metadata": {
        "id": "d6VIUBg5fsvG"
      }
    },
    {
      "cell_type": "code",
      "source": [
        "!seqspec info -f json -k meta spec.yaml"
      ],
      "metadata": {
        "id": "AqKGSILoe9p9",
        "outputId": "84d5585a-3a9c-43c2-d034-9f3a0f2b614c",
        "colab": {
          "base_uri": "https://localhost:8080/"
        }
      },
      "execution_count": 6,
      "outputs": [
        {
          "output_type": "stream",
          "name": "stdout",
          "text": [
            "{\n",
            "    \"seqspec_version\": \"0.2.0\",\n",
            "    \"assay_id\": \"SPLiTSeq\",\n",
            "    \"name\": \"SPLiTSeq\",\n",
            "    \"doi\": \"https://doi.org/10.1126/science.aam8999\",\n",
            "    \"date\": \"15 March 2018\",\n",
            "    \"description\": \"split-pool ligation-based transcriptome sequencing\",\n",
            "    \"lib_struct\": \"https://teichlab.github.io/scg_lib_structs/methods_html/SPLiT-seq.html\",\n",
            "    \"sequence_protocol\": \"NextSeq 500\",\n",
            "    \"sequence_kit\": \"NextSeq 550 reagents\",\n",
            "    \"library_protocol\": \"SPLiTSeq RNA\",\n",
            "    \"library_kit\": \"Custom/Nextera/Truseq Single Index\"\n",
            "}\n"
          ]
        }
      ]
    },
    {
      "cell_type": "markdown",
      "source": [
        "# What are the sequencing reads annotated in my spec?"
      ],
      "metadata": {
        "id": "goPKb0a1fudC"
      }
    },
    {
      "cell_type": "code",
      "source": [
        "!seqspec info -k sequence_spec spec.yaml"
      ],
      "metadata": {
        "id": "Uo2pfweKfX8K",
        "outputId": "27bc872a-06ca-4c4b-a0cf-d6c73c274385",
        "colab": {
          "base_uri": "https://localhost:8080/"
        }
      },
      "execution_count": 7,
      "outputs": [
        {
          "output_type": "stream",
          "name": "stdout",
          "text": [
            "rna\tR1.fastq.gz\tpos\t140\t140\tRead_1_primer\tRead 1\n",
            "rna\tI1.fastq.gz\tpos\t6\t6\tRead_2_primer\tIndex 1 (i7 index)\n",
            "rna\tR2.fastq.gz\tneg\t86\t86\tRead_2_primer\tRead 2\n"
          ]
        }
      ]
    },
    {
      "cell_type": "markdown",
      "source": [
        "# What does my sequencing library look like?"
      ],
      "metadata": {
        "id": "aDGC1VW3fwDn"
      }
    },
    {
      "cell_type": "code",
      "source": [
        "!seqspec info -k library_spec spec.yaml"
      ],
      "metadata": {
        "id": "zc7cTP-cfZQc",
        "outputId": "0ff73a3d-080d-4113-bb97-80d223eca633",
        "colab": {
          "base_uri": "https://localhost:8080/"
        }
      },
      "execution_count": 8,
      "outputs": [
        {
          "output_type": "stream",
          "name": "stdout",
          "text": [
            "rna\tP5\tillumina_p5\tP5\tfixed\tAATGATACGGCGACCACCGAGATCTACAC\t29\t29\tNone\n",
            "rna\tSpacer\tlinker\tSpacer\tfixed\tTAGATCGC\t8\t8\tNone\n",
            "rna\tRead_1_primer\tread1_primer\tRead_1_primer\tfixed\tTCGTCGGCAGCGTCAGATGTGTATAAGAGACAG\t33\t33\tNone\n",
            "rna\tcDNA\tcdna\tcDNA\trandom\tXXXXXXXXXXXXXXXXXXXXXXXXXXXXXXXXXXXXXXXXXXXXXXXXXXXXXXXXXXXXXXXXXXXXXXXXXXXXXXXXXXXXXXXXXXXXXXXXXXXX\t1\t100\tNone\n",
            "rna\tRT_primer\tprimer\tRT_primer\tonlist\tNNNNNNNNNNNNNNN\t6\t15\tonlist_rt_primer.txt\n",
            "rna\tRound_1_BC\tbarcode\tRound_1_BC\tonlist\tNNNNNNNN\t8\t8\tonlist_round1.txt\n",
            "rna\tlinker_1\tlinker\tlinker_1\tfixed\tGCTTACGAGACCGGAGAGTTCGTGCACCTA\t30\t30\tNone\n",
            "rna\tRound_2_BC\tbarcode\tRound_2_BC\tonlist\tNNNNNNNN\t8\t8\tonlist_round1.txt\n",
            "rna\tLinker_2\tlinker\tLinker_2\tfixed\tTCAGCATGCGGCTACGCTTTGTAGCCGGTG\t30\t30\tNone\n",
            "rna\tRound_3_BC\tbarcode\tRound_3_BC\tonlist\tNNNNNNNN\t8\t8\tonlist_round1.txt\n",
            "rna\tUMI\tumi\tUMI\trandom\tXXXXXXXXXX\t10\t10\tonlist_round2.txt\n",
            "rna\tRead_2_primer\tprimer\tRead_2_primer\tfixed\tTCTAGCCTTCTCGTGTGCAGAC\t22\t22\tonlist_round3.txt\n",
            "rna\tRound_4_BC\tbarcode\tRound_4_BC\tonlist\tNNNNNN\t6\t6\tonlist_round4.txt\n",
            "rna\tP7\tillumina_p7\tP7\tfixed\tATCTCGTATGCCGTCTTCTGCTTG\t24\t24\tNone\n"
          ]
        }
      ]
    },
    {
      "cell_type": "markdown",
      "source": [
        "# Which library elements are contained in my sequencing reads?"
      ],
      "metadata": {
        "id": "aEpWDWa6fxyY"
      }
    },
    {
      "cell_type": "markdown",
      "source": [
        "Using the tables above we specify the sequencing read and the associated modality.\n",
        "\n",
        "Elements in R1.fastq.gz"
      ],
      "metadata": {
        "id": "-lnppKfcfzZb"
      }
    },
    {
      "cell_type": "code",
      "source": [
        "!seqspec index -m rna -r \"R1.fastq.gz\" spec.yaml"
      ],
      "metadata": {
        "id": "rFlN83BDfcZt",
        "outputId": "5358b3d3-0f33-4bd7-d96b-c3b83d795b22",
        "colab": {
          "base_uri": "https://localhost:8080/"
        }
      },
      "execution_count": 9,
      "outputs": [
        {
          "output_type": "stream",
          "name": "stdout",
          "text": [
            "R1.fastq.gz\tcDNA\tcdna\t0\t100\n",
            "R1.fastq.gz\tRT_primer\tprimer\t100\t115\n",
            "R1.fastq.gz\tRound_1_BC\tbarcode\t115\t123\n",
            "R1.fastq.gz\tlinker_1\tlinker\t123\t140\n"
          ]
        }
      ]
    },
    {
      "cell_type": "markdown",
      "source": [
        "Elements in R2.fastq.gz"
      ],
      "metadata": {
        "id": "z-5MOSH7f0OJ"
      }
    },
    {
      "cell_type": "code",
      "source": [
        "!seqspec index -m rna -r \"R2.fastq.gz\" spec.yaml"
      ],
      "metadata": {
        "id": "tj-mTO8sffpo",
        "outputId": "76d2ed78-d4ac-41aa-8c6f-86418baa88c7",
        "colab": {
          "base_uri": "https://localhost:8080/"
        }
      },
      "execution_count": 10,
      "outputs": [
        {
          "output_type": "stream",
          "name": "stdout",
          "text": [
            "R2.fastq.gz\tUMI\tumi\t0\t10\n",
            "R2.fastq.gz\tRound_3_BC\tbarcode\t10\t18\n",
            "R2.fastq.gz\tLinker_2\tlinker\t18\t48\n",
            "R2.fastq.gz\tRound_2_BC\tbarcode\t48\t56\n",
            "R2.fastq.gz\tlinker_1\tlinker\t56\t86\n"
          ]
        }
      ]
    },
    {
      "cell_type": "markdown",
      "source": [
        "Elements in I1.fastq.gz"
      ],
      "metadata": {
        "id": "Exf-OvMhf2ym"
      }
    },
    {
      "cell_type": "code",
      "source": [
        "!seqspec index -m rna -r \"I1.fastq.gz\" spec.yaml"
      ],
      "metadata": {
        "id": "zKT5725Mfg9C",
        "outputId": "a16a9f19-dd13-4b54-ac7a-950b4e750c89",
        "colab": {
          "base_uri": "https://localhost:8080/"
        }
      },
      "execution_count": 11,
      "outputs": [
        {
          "output_type": "stream",
          "name": "stdout",
          "text": [
            "I1.fastq.gz\tRound_4_BC\tbarcode\t0\t6\n"
          ]
        }
      ]
    },
    {
      "cell_type": "markdown",
      "source": [
        "# Finding elements in seqspec"
      ],
      "metadata": {
        "id": "bRWMlZcdc_wa"
      }
    },
    {
      "cell_type": "code",
      "source": [
        "!seqspec find -m rna -r \"Round_1_BC\" spec.yaml"
      ],
      "metadata": {
        "id": "LpB0KT0PdCVV",
        "outputId": "1ca5d3be-6a9a-44db-af79-2ec415011761",
        "colab": {
          "base_uri": "https://localhost:8080/"
        }
      },
      "execution_count": 12,
      "outputs": [
        {
          "output_type": "stream",
          "name": "stdout",
          "text": [
            "- !Region\n",
            "  parent_id: rna\n",
            "  region_id: Round_1_BC\n",
            "  region_type: barcode\n",
            "  name: Round_1_BC\n",
            "  sequence_type: onlist\n",
            "  sequence: NNNNNNNN\n",
            "  min_len: 8\n",
            "  max_len: 8\n",
            "  onlist: !Onlist\n",
            "    filename: onlist_round1.txt\n",
            "    md5: d3818caa32bb707c98e17aa614be58ef\n",
            "    location: local\n",
            "  regions: null\n",
            "\n"
          ]
        }
      ]
    },
    {
      "cell_type": "markdown",
      "source": [
        "# Which elements use an onlist?"
      ],
      "metadata": {
        "id": "TnJe5S7jd3yK"
      }
    },
    {
      "cell_type": "code",
      "source": [
        "!seqspec onlist -m rna --list spec.yaml"
      ],
      "metadata": {
        "id": "waABSFlhdDPs",
        "outputId": "0b1781df-8bcf-40bc-f96d-4ee97d5e1a54",
        "colab": {
          "base_uri": "https://localhost:8080/"
        }
      },
      "execution_count": 13,
      "outputs": [
        {
          "output_type": "stream",
          "name": "stdout",
          "text": [
            "RT_primer\tonlist_rt_primer.txt\tlocal\t076f32ce8a96038bfc0c618da2204c77\n",
            "Round_1_BC\tonlist_round1.txt\tlocal\td3818caa32bb707c98e17aa614be58ef\n",
            "Round_2_BC\tonlist_round1.txt\tlocal\td3818caa32bb707c98e17aa614be58ef\n",
            "Round_3_BC\tonlist_round1.txt\tlocal\td3818caa32bb707c98e17aa614be58ef\n",
            "UMI\tonlist_round2.txt\tlocal\td3818caa32bb707c98e17aa614be58ef\n",
            "Read_2_primer\tonlist_round3.txt\tlocal\td3818caa32bb707c98e17aa614be58ef\n",
            "Round_4_BC\tonlist_round4.txt\tlocal\t39435765800482d7ff4cea4d33fc403c\n"
          ]
        }
      ]
    },
    {
      "cell_type": "markdown",
      "source": [
        "# How do I generate an onlist for multiple barcodes?"
      ],
      "metadata": {
        "id": "mmCv9wFCd6kr"
      }
    },
    {
      "cell_type": "code",
      "source": [
        "!seqspec onlist -m rna -s region-type -r barcode spec.yaml"
      ],
      "metadata": {
        "id": "zKbzBFXkdLX7",
        "outputId": "3fd4dbf1-6f91-426c-ce1c-d5f4aa9f0cb8",
        "colab": {
          "base_uri": "https://localhost:8080/"
        }
      },
      "execution_count": 14,
      "outputs": [
        {
          "output_type": "stream",
          "name": "stdout",
          "text": [
            "/content/onlist_joined.txt\n"
          ]
        }
      ]
    },
    {
      "cell_type": "code",
      "source": [
        "!head -2 *onlist*"
      ],
      "metadata": {
        "id": "ih6yBjnFdXh0",
        "outputId": "11c5b40e-7837-4183-9a89-158558889cab",
        "colab": {
          "base_uri": "https://localhost:8080/"
        }
      },
      "execution_count": 15,
      "outputs": [
        {
          "output_type": "stream",
          "name": "stdout",
          "text": [
            "==> onlist_joined.txt <==\n",
            "ATCACGTTATCACGTTATCACGTTCAGATC\n",
            "ATCACGTTATCACGTTATCACGTTACTTGA\n",
            "\n",
            "==> onlist_round1.txt <==\n",
            "ATCACGTT\n",
            "CGATGTTT\n",
            "\n",
            "==> onlist_round2.txt <==\n",
            "ATCACGTT\n",
            "CGATGTTT\n",
            "\n",
            "==> onlist_round3.txt <==\n",
            "ATCACGTT\n",
            "CGATGTTT\n",
            "\n",
            "==> onlist_round4.txt <==\n",
            "CAGATC\n",
            "ACTTGA\n",
            "\n",
            "==> onlist_rt_primer.txt <==\n",
            "XXXXXX\n",
            "AAAAAAAAAAAAAAA"
          ]
        }
      ]
    },
    {
      "cell_type": "markdown",
      "source": [
        "# How do I initialize a new spec?"
      ],
      "metadata": {
        "id": "ksXWn4gyd-1N"
      }
    },
    {
      "cell_type": "code",
      "source": [
        "!seqspec init -n myassay -m 1 -o myassay.yaml \"((r1_primer:10,barcode:16,umi:12,cDNA:150,r2_primer:10,index7:8)rna)\""
      ],
      "metadata": {
        "id": "oXm6nQ7edy7L"
      },
      "execution_count": 16,
      "outputs": []
    },
    {
      "cell_type": "code",
      "source": [
        "!seqspec print myassay.yaml"
      ],
      "metadata": {
        "id": "sOxv93fkeQQD",
        "outputId": "8d4f1d2d-5444-4992-a540-ab4e613bef84",
        "colab": {
          "base_uri": "https://localhost:8080/"
        }
      },
      "execution_count": 18,
      "outputs": [
        {
          "output_type": "stream",
          "name": "stdout",
          "text": [
            "                                  ┌─'r1_primer:10'\n",
            "                                  ├─'barcode:16'\n",
            "                                  ├─'umi:12'\n",
            "──────────────── ──rna────────────┤\n",
            "                                  ├─'cDNA:150'\n",
            "                                  ├─'r2_primer:10'\n",
            "                                  └─'index7:8'\n"
          ]
        }
      ]
    },
    {
      "cell_type": "code",
      "source": [],
      "metadata": {
        "id": "ce6NuulveopS"
      },
      "execution_count": null,
      "outputs": []
    }
  ],
  "metadata": {
    "colab": {
      "name": "scratchpad",
      "provenance": []
    },
    "kernelspec": {
      "display_name": "Python 3",
      "name": "python3"
    }
  },
  "nbformat": 4,
  "nbformat_minor": 0
}