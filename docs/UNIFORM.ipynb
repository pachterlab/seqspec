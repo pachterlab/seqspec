{
  "cells": [
    {
      "cell_type": "markdown",
      "metadata": {
        "id": "view-in-github",
        "colab_type": "text"
      },
      "source": [
        "<a href=\"https://colab.research.google.com/github/pachterlab/seqspec/blob/devel/docs/UNIFORM.ipynb\" target=\"_parent\"><img src=\"https://colab.research.google.com/assets/colab-badge.svg\" alt=\"Open In Colab\"/></a>"
      ]
    },
    {
      "cell_type": "markdown",
      "source": [
        "---\n",
        "title: Using seqspec\n",
        "date: 2024-09-07\n",
        "authors:\n",
        "  - name: A. Sina Booeshaghi\n",
        "---"
      ],
      "metadata": {
        "id": "hgPw9rQUgbxm"
      }
    },
    {
      "cell_type": "markdown",
      "source": [
        "`seqspec` enables uniform preprocessing of sequencing reads.\n",
        "\n",
        "# Single-cell preprocessing\n",
        "Single-cell data preprocessing is the procedure where\n",
        "\n",
        "1. Sequencing reads are aligned to a reference\n",
        "2. Barcodes errors are corrected\n",
        "3. UMIs/reads are counted\n",
        "\n",
        "The goal is to produce a count matrix, where rows are cells or samples and columns are biological features such as genes, proteins, or genomic regions.\n",
        "\n",
        "There are many tools that perform single-cell RNA-sequencing preprocessing. For this tutorial we will use `kb-python` (which uses `kallisto` and `bustools`), `STARsolo`, `simpleaf` with `seqspec` to perform alignment and quantification. `kb_python` uses `kallisto` to perform read alignment and `bustools` to perform and barcode correction and UMI counting. `STARsolo` performs performs whole genome alignment and barcode error correction. Like `kb-python`, `simpleaf` uses two separate tools under the hood: `salmon` to perform read alignment and `alevin-fry` to perform barcode error correction and UMI counting.\n",
        "\n",
        "Throughout this tutorial we will use the `dogmaseq-dig` dataset which is a multimodal assay (RNA/ATAC/PROTEIN/TAG). The `seqspec` for this dataset can be found here\n"
      ],
      "metadata": {
        "id": "U8WfUXXNgf44"
      }
    },
    {
      "cell_type": "markdown",
      "source": [
        "## Install tools"
      ],
      "metadata": {
        "id": "h7sDNjCpgq0_"
      }
    },
    {
      "cell_type": "markdown",
      "source": [
        "To understand how each tool works, please review their code and manuscript:\n",
        "\n",
        "| Tool | Code link | Manuscript link | Purpose |\n",
        "|------|-----------|-----------------|---------|\n",
        "| seqspec | [GitHub](https://github.com/pachterlab/seqspec) | [doi](https://doi.org/10.1093/bioinformatics/btae168) | Identify and extract elements in reads |\n",
        "| kb-python | [GitHub](https://github.com/pachterlab/kb_python) | [doi](https://doi.org/10.1101/2023.11.21.568164) | Perform read alignment, error correction, and counting |\n",
        "| gget | [GitHub](https://github.com/pachterlab/gget) | [doi](https://doi.org/10.1093/bioinformatics/btac836) | Fetch species-specific references |\n",
        "| kallisto | [GitHub](https://github.com/pachterlab/kallisto) | [doi](https://doi.org/10.1038/nbt.3519) | Perform read alignment (used in kb-python) |\n",
        "| bustools | [GitHub](https://github.com/BUStools/bustools) | [doi](https://doi.org/10.1038/s41587-021-00870-2) | Perform barcode error correction and UMI counting (used in kb-python) |\n",
        "| BUS file | [GitHub](https://github.com/BUStools/BUS-format) | [doi](https://doi.org/10.1093/bioinformatics/btz279) | Store barocdes, umis, and read alignments (used in kb-python) |\n",
        "| STARsolo | [GitHub](https://github.com/alexdobin/STAR/) | [doi](https://doi.org/10.1101/2021.05.05.442755) | Perform read alignment, error correction, and counting |\n",
        "| simpleaf | [GitHub](https://github.com/COMBINE-lab/simpleaf) | [doi](https://doi.org/10.1093/bioinformatics/btad614) | Perform read alignment, error correction, and counting |"
      ],
      "metadata": {
        "id": "TN5UvCwzhGh8"
      }
    },
    {
      "cell_type": "code",
      "source": [
        "# Install kb-python, seqspec, gget\n",
        "! pip install --quiet kb-python gget > /dev/null 2>&1  # installing kb-python autoinstalls kallisto and bustools\n",
        "! pip install --quiet git+https://github.com/pachterlab/seqspec@devel > /dev/null 2>&1\n",
        "\n",
        "# Verify installations\n",
        "! seqspec --version\n",
        "! kb --version\n",
        "! gget --version\n",
        "\n",
        "# Install STARsolo and verify installation\n",
        "! wget --quiet --show-progress https://github.com/alexdobin/STAR/archive/2.7.11b.tar.gz\n",
        "! tar -xzf 2.7.11b.tar.gz > /dev/null 2>&1\n",
        "! mv /content/STAR-2.7.11b/bin/Linux_x86_64/STAR /usr/bin\n",
        "! STAR --version\n",
        "\n",
        "# Install alevin-fry, simpleaf and verify installation\n",
        "! curl -S --proto '=https' --tlsv1.2 -LsSf https://github.com/COMBINE-lab/alevin-fry/releases/download/v0.10.0/alevin-fry-installer.sh | sh > /dev/null 2>&1\n",
        "! $HOME/.cargo/bin/alevin-fry --version\n",
        "\n",
        "! curl -S --proto '=https' --tlsv1.2 -LsSf https://github.com/COMBINE-lab/simpleaf/releases/download/v0.17.2/simpleaf-installer.sh | sh > /dev/null 2>&1\n",
        "%env ALEVIN_FRY_HOME=\"$HOME/.cargo/bin/alevin-fry\"\n",
        "! $HOME/.cargo/bin/simpleaf --version"
      ],
      "metadata": {
        "id": "4EWVWe1hgpAG",
        "outputId": "f58e5593-e264-421a-eb6a-0482b38714e1",
        "colab": {
          "base_uri": "https://localhost:8080/"
        }
      },
      "execution_count": 1,
      "outputs": [
        {
          "output_type": "stream",
          "name": "stdout",
          "text": [
            "seqspec 0.2.0\n",
            "usage: kb [-h] [--list] <CMD> ...\n",
            "\n",
            "kb_python 0.28.2\n",
            "\n",
            "positional arguments:\n",
            "  <CMD>\n",
            "    info      Display package and citation information\n",
            "    compile   Compile `kallisto` and `bustools` binaries from source\n",
            "    ref       Build a kallisto index and transcript-to-gene mapping\n",
            "    count     Generate count matrices from a set of single-cell FASTQ files\n",
            "\n",
            "options:\n",
            "  -h, --help  Show this help message and exit\n",
            "  --list      Display list of supported single-cell technologies\n",
            "gget version: 0.28.6\n",
            "2.7.11b.tar.gz          [        <=>         ]  11.89M  7.43MB/s    in 1.6s    \n",
            "2.7.11b\n",
            "alevin-fry 0.10.0\n",
            "env: ALEVIN_FRY_HOME=\"$HOME/.cargo/bin/alevin-fry\"\n",
            "simpleaf 0.17.2\n"
          ]
        }
      ]
    },
    {
      "cell_type": "markdown",
      "source": [
        "## Download `seqspec` for the `dogmaseq-dig` data"
      ],
      "metadata": {
        "id": "ccdcR8Nlj9XJ"
      }
    },
    {
      "cell_type": "code",
      "source": [
        "! wget --quiet --show-progress https://raw.githubusercontent.com/pachterlab/seqspec/devel/examples/specs/dogmaseq-dig/spec.yaml"
      ],
      "metadata": {
        "id": "hoDCIDwhkEKU",
        "outputId": "0d293a8d-ee0d-4055-e80b-fc5041f87e34",
        "colab": {
          "base_uri": "https://localhost:8080/"
        }
      },
      "execution_count": 2,
      "outputs": [
        {
          "output_type": "stream",
          "name": "stdout",
          "text": [
            "\rspec.yaml             0%[                    ]       0  --.-KB/s               \rspec.yaml           100%[===================>]  14.17K  --.-KB/s    in 0.001s  \n"
          ]
        }
      ]
    },
    {
      "cell_type": "code",
      "source": [
        "!seqspec print spec.yaml"
      ],
      "metadata": {
        "id": "RIEiCVzNom8_",
        "outputId": "14d9e06a-c21f-4ada-8c43-acb82da096ae",
        "colab": {
          "base_uri": "https://localhost:8080/"
        }
      },
      "execution_count": 3,
      "outputs": [
        {
          "output_type": "stream",
          "name": "stdout",
          "text": [
            "                                                                  ┌─'ghost_protein_truseq_read1:0'\n",
            "                                                                  ├─'protein_truseq_read1:33'\n",
            "                                                                  ├─'protein_cell_bc:16'\n",
            "                                 ┌─protein────────────────────────┤\n",
            "                                 │                                ├─'protein_umi:12'\n",
            "                                 │                                ├─'protein_seq:15'\n",
            "                                 │                                └─'protein_truseq_read2:34'\n",
            "                                 │                                ┌─'tag_truseq_read1:33'\n",
            "                                 │                                ├─'tag_cell_bc:16'\n",
            "                                 ├─tag────────────────────────────┼─'tag_umi:12'\n",
            "                                 │                                ├─'tag_seq:15'\n",
            "─────────────────────────────────┤                                └─'tag_truseq_read2:34'\n",
            "                                 │                                ┌─'rna_truseq_read1:33'\n",
            "                                 │                                ├─'rna_cell_bc:16'\n",
            "                                 ├─rna────────────────────────────┼─'rna_umi:12'\n",
            "                                 │                                ├─'cdna:102'\n",
            "                                 │                                └─'rna_truseq_read2:34'\n",
            "                                 │                                ┌─'atac_truseq_read1:33'\n",
            "                                 │                                ├─'gDNA:100'\n",
            "                                 └─atac───────────────────────────┼─'atac_truseq_read2:34'\n",
            "                                                                  ├─'spacer:8'\n",
            "                                                                  └─'atac_cell_bc:16'\n"
          ]
        }
      ]
    },
    {
      "cell_type": "markdown",
      "source": [
        "## Single-cell/nuclei RNAseq quantification"
      ],
      "metadata": {
        "id": "zhQsQD42giYi"
      }
    },
    {
      "cell_type": "markdown",
      "source": [
        "### `kb-python (kallisto bustools)`"
      ],
      "metadata": {
        "id": "joQ-Vzgagi_9"
      }
    },
    {
      "cell_type": "code",
      "source": [
        "!seqspec file"
      ],
      "metadata": {
        "id": "E86RJ-9Eq0gE",
        "outputId": "bbb791f9-9301-4415-a653-3016212d43c2",
        "colab": {
          "base_uri": "https://localhost:8080/"
        }
      },
      "execution_count": 13,
      "outputs": [
        {
          "output_type": "stream",
          "name": "stdout",
          "text": [
            "usage: seqspec file [-h] [-o OUT] [-i IDs] -m MODALITY [-s SELECTOR] [-f FORMAT] [-k KEY] yaml\n",
            "\n",
            "List files present in seqspec file.\n",
            "\n",
            "Examples:\n",
            "seqspec file -m rna spec.yaml                          # List paired read files\n",
            "seqspec file -m rna -f interleaved spec.yaml           # List interleaved read files\n",
            "seqspec file -m rna -f list -k url spec.yaml           # List urls of all read files\n",
            "seqspec file -m rna -f list -s onlist -k all spec.yaml # List onlist files\n",
            "---\n",
            "\n",
            "positional arguments:\n",
            "  yaml         Sequencing specification yaml file\n",
            "\n",
            "options:\n",
            "  -h, --help   show this help message and exit\n",
            "  -o OUT       Path to output file\n",
            "  -i IDs       Ids to list\n",
            "  -s SELECTOR  Selector for ID, [read, region, file, onlist] (default: read)\n",
            "  -f FORMAT    Format, [paired, interleaved, index, list], default: paired\n",
            "  -k KEY       Key, [file_id, filename, filetype, filesize, url, urltype, md5, all], default: file_id\n",
            "\n",
            "required arguments:\n",
            "  -m MODALITY  Modality\n"
          ]
        }
      ]
    },
    {
      "cell_type": "code",
      "source": [
        "!seqspec file -m tag -f list -s onlist -k all spec.yaml"
      ],
      "metadata": {
        "id": "YMlhrWCjrLir",
        "outputId": "93811de4-5995-4105-94ec-b5da54435b35",
        "colab": {
          "base_uri": "https://localhost:8080/"
        }
      },
      "execution_count": 18,
      "outputs": [
        {
          "output_type": "stream",
          "name": "stdout",
          "text": [
            "tag_cell_bc\tRNA-737K-arc-v1.txt\tRNA-737K-arc-v1.txt\ttxt\t2142553\thttps://github.com/pachterlab/qcbc/raw/main/tests/10xMOME/RNA-737K-arc-v1.txt.gz\thttps\ta88cd21e801ae6f9a7d9a48b67ccf693\n",
            "tag_seq\ttag_0419_feature_barcodes.txt\ttag_0419_feature_barcodes.txt\ttxt\t0\thttps://raw.githubusercontent.com/pachterlab/seqspec/devel/examples/specs/dogmaseq-dig/tag_0419_feature_barcodes.txt\thttps\tde44ad6d5c4b9f381a352283a6831112\n"
          ]
        }
      ]
    },
    {
      "cell_type": "code",
      "source": [
        "!seqspec file -m rna -f list -s onlist -k all spec.yaml | cut -f 6 | curl | zcat > onlist_rna.txt\n",
        "!seqspec file -m rna -f list -s onlist -k all spec.yaml | cut -f 6 | curl | zcat > onlist_rna.txt\n",
        "!seqspec file -m rna -f list -s onlist -k all spec.yaml | cut -f 6 | curl | zcat > onlist_rna.txt\n",
        "!seqspec file -m rna -f list -s onlist -k all spec.yaml | cut -f 6 | curl | zcat > onlist_rna.txt"
      ],
      "metadata": {
        "id": "Z3Jv3tKSqSSv",
        "outputId": "b2ff09ba-1023-48b4-f99d-0c07c78f8713",
        "colab": {
          "base_uri": "https://localhost:8080/"
        }
      },
      "execution_count": 16,
      "outputs": [
        {
          "output_type": "stream",
          "name": "stdout",
          "text": [
            "https://github.com/pachterlab/qcbc/raw/main/tests/10xMOME/RNA-737K-arc-v1.txt.gz\n"
          ]
        }
      ]
    },
    {
      "cell_type": "code",
      "source": [
        "! # seqspec commands to get onlist, technology string, and files\n",
        "! w=$(seqspec onlist -m rna -o onlist.txt -s region-type -i barcode spec.yaml) && echo \"Onlist: \" $w\n",
        "\n",
        "! x=$(seqspec index -m rna -t kb -s file spec.yaml) && echo \"Technology string: \" $x\n",
        "\n",
        "! f=$(seqspec file -m rna -s read -f paired -k url spec.yaml  | tr \"\\t\\n\" \"  \") && echo \"Files: \" $f"
      ],
      "metadata": {
        "id": "MptvRm20psFR",
        "outputId": "eba4bacf-2b85-4f26-fc09-84c2a01380e9",
        "colab": {
          "base_uri": "https://localhost:8080/"
        }
      },
      "execution_count": 6,
      "outputs": [
        {
          "output_type": "stream",
          "name": "stdout",
          "text": [
            "Onlist:  /content/RNA-737K-arc-v1.txt\n",
            "Technology string:  0,0,16:0,16,28:1,0,102\n",
            "Files:  https://github.com/pachterlab/seqspec/raw/devel/examples/specs/dogmaseq-dig/fastqs/rna_R1_SRR18677638.fastq.gz https://github.com/pachterlab/seqspec/raw/devel/examples/specs/dogmaseq-dig/fastqs/rna_R2_SRR18677638.fastq.gz\n"
          ]
        }
      ]
    },
    {
      "cell_type": "code",
      "execution_count": null,
      "metadata": {
        "id": "lIYdn1woOS1n"
      },
      "outputs": [],
      "source": [
        "# standard reference\n",
        "! kb ref -i index.idx -g t2g.txt -f1 transcriptome.fa $(gget ref --ftp -w dna,gtf homo_sapiens)\n",
        "\n",
        "! # seqspec commands to get onlist, technology string, and files\n",
        "! w=$(seqspec onlist -m rna -o onlist.txt -s region-type -i barcode spec.yaml)\n",
        "! echo \"Onlist: \" $w\n",
        "\n",
        "! x=$(seqspec index -m rna -t kb -s file spec.yaml)\n",
        "! echo \"Technology string: \" $x\n",
        "\n",
        "! f=$(seqspec file -m rna -s read -f paired -k url spec.yaml  | tr \"\\t\\n\" \"  \")\n",
        "! echo \"Files: \" $f\n",
        "\n",
        "! # standard quantification\n",
        "! kb count --h5ad -t 16 -m 32G -i index.idx -g t2g.txt -o kb_out -x \"$x\" -w \"$w\" \"$f\""
      ]
    }
  ],
  "metadata": {
    "colab": {
      "name": "scratchpad",
      "provenance": [],
      "include_colab_link": true
    },
    "kernelspec": {
      "display_name": "Python 3",
      "name": "python3"
    }
  },
  "nbformat": 4,
  "nbformat_minor": 0
}